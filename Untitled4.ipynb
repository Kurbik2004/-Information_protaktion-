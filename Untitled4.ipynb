{
  "nbformat": 4,
  "nbformat_minor": 0,
  "metadata": {
    "colab": {
      "provenance": [],
      "collapsed_sections": [],
      "authorship_tag": "ABX9TyNxOeSIyfNjiOQwTopKKyIQ",
      "include_colab_link": true
    },
    "kernelspec": {
      "name": "python3",
      "display_name": "Python 3"
    },
    "language_info": {
      "name": "python"
    }
  },
  "cells": [
    {
      "cell_type": "markdown",
      "metadata": {
        "id": "view-in-github",
        "colab_type": "text"
      },
      "source": [
        "<a href=\"https://colab.research.google.com/github/Kurbik2004/-Information_protaktion-/blob/main/Untitled4.ipynb\" target=\"_parent\"><img src=\"https://colab.research.google.com/assets/colab-badge.svg\" alt=\"Open In Colab\"/></a>"
      ]
    },
    {
      "cell_type": "code",
      "execution_count": 4,
      "metadata": {
        "colab": {
          "base_uri": "https://localhost:8080/"
        },
        "id": "w7tUjSmg6YmV",
        "outputId": "c8088c11-2c51-4245-d820-5a7616a4e0e9"
      },
      "outputs": [
        {
          "output_type": "stream",
          "name": "stdout",
          "text": [
            "756\n",
            "6\n",
            "5\n",
            "7\n"
          ]
        }
      ],
      "source": [
        "n = int(input())\n",
        "while n != 0:  \n",
        "    last_digit = n % 10 \n",
        "    n = n // 10\n",
        "    print(last_digit)\n",
        "\n"
      ]
    },
    {
      "cell_type": "code",
      "source": [
        "num = int(input())\n",
        "has_seven = False  \n",
        "while num != 0:\n",
        "    last_digit = num % 10\n",
        "    if last_digit == 7:\n",
        "        has_seven = True\n",
        "    num = num // 10\n",
        "if has_seven == True:\n",
        "    print('YES')\n",
        "else:\n",
        "    print('NO')\n",
        "\n"
      ],
      "metadata": {
        "colab": {
          "base_uri": "https://localhost:8080/"
        },
        "id": "i36zWII275Bc",
        "outputId": "bb597c63-5d2a-49b5-fae1-f18aa1268221"
      },
      "execution_count": 5,
      "outputs": [
        {
          "output_type": "stream",
          "name": "stdout",
          "text": [
            "7890\n",
            "YES\n"
          ]
        }
      ]
    },
    {
      "cell_type": "code",
      "source": [
        "num = 12345\n",
        "product = 1\n",
        "while num != 0:\n",
        "    last_digit = num % 10\n",
        "    product = product * last_digit\n",
        "    num = num // 10\n",
        "print(product)\n"
      ],
      "metadata": {
        "colab": {
          "base_uri": "https://localhost:8080/"
        },
        "id": "ok06WIrA89aw",
        "outputId": "2108cf33-ca46-4f58-b7ed-b92b3b0e1be3"
      },
      "execution_count": 6,
      "outputs": [
        {
          "output_type": "stream",
          "name": "stdout",
          "text": [
            "120\n"
          ]
        }
      ]
    },
    {
      "cell_type": "code",
      "source": [
        "num = 123456789\n",
        "total = 0\n",
        "while num != 0:\n",
        "    last_digit = num % 10\n",
        "    if last_digit > 4:\n",
        "        total += 1\n",
        "    num = num // 10\n",
        "print(total)\n"
      ],
      "metadata": {
        "colab": {
          "base_uri": "https://localhost:8080/"
        },
        "id": "Izyx2iX79CfJ",
        "outputId": "227626b9-154d-4031-8910-9d7ba22430ec"
      },
      "execution_count": 7,
      "outputs": [
        {
          "output_type": "stream",
          "name": "stdout",
          "text": [
            "5\n"
          ]
        }
      ]
    },
    {
      "cell_type": "code",
      "source": [
        "n = int(input())\n"
      ],
      "metadata": {
        "id": "AleeqDl8_4vb"
      },
      "execution_count": null,
      "outputs": []
    }
  ]
}